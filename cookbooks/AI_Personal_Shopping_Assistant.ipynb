{
  "nbformat": 4,
  "nbformat_minor": 0,
  "metadata": {
    "colab": {
      "provenance": []
    },
    "kernelspec": {
      "name": "python3",
      "display_name": "Python 3"
    },
    "language_info": {
      "name": "python"
    }
  },
  "cells": [
    {
      "cell_type": "code",
      "source": [
        "# -*- coding: utf-8 -*-\n",
        "\"\"\"\n",
        "AI_Personal_Shopping_Assistant.py\n",
        "\n",
        "Automatically generated.\n",
        "\n",
        "Personal Shopping Assistant that helps users find products, compare prices, and notify about deals.\n",
        "\"\"\"\n",
        "\n",
        "import uuid\n",
        "import yaml\n",
        "import time\n",
        "import re\n",
        "from julep import Client"
      ],
      "metadata": {
        "id": "zGtNy9e2Yhcz"
      },
      "execution_count": 2,
      "outputs": []
    },
    {
      "cell_type": "code",
      "source": [
        "# Define UUIDs for tasks\n",
        "AGENT_UUID = uuid.uuid4()\n",
        "PRODUCT_SEARCH_TASK_UUID = uuid.uuid4()\n",
        "DEAL_NOTIFICATION_TASK_UUID = uuid.uuid4()\n",
        "\n",
        "# Initialize the Julep client\n",
        "api_key = \"\"  # Replace with your actual Julep API key\n",
        "client = Client(api_key=api_key, environment=\"dev\")"
      ],
      "metadata": {
        "id": "53htV6mdYjJr"
      },
      "execution_count": 3,
      "outputs": []
    },
    {
      "cell_type": "code",
      "source": [
        "# Create or update the AI agent\n",
        "agent = client.agents.create_or_update(\n",
        "    agent_id=AGENT_UUID,\n",
        "    name=\"Personal Shopping Assistant\",\n",
        "    about=\"An AI assistant for helping users find products, compare prices, and notify about deals.\",\n",
        "    model=\"gpt-4o\",\n",
        ")"
      ],
      "metadata": {
        "id": "CM68zcycYkxN"
      },
      "execution_count": 4,
      "outputs": []
    },
    {
      "cell_type": "code",
      "source": [
        "# Define the product search task\n",
        "product_search_task_def = yaml.safe_load(\"\"\"\n",
        "name: Product Search\n",
        "\n",
        "input_schema:\n",
        "  type: object\n",
        "  properties:\n",
        "    search_query:\n",
        "      type: string\n",
        "\n",
        "main:\n",
        "- prompt:\n",
        "  - role: system\n",
        "    content: >-\n",
        "      You are a product search assistant. Search for products based on the following query:\n",
        "      {{inputs[0].search_query}}\n",
        "\n",
        "      Return a list of product names and their links.\n",
        "  unwrap: true\n",
        "\n",
        "- evaluate:\n",
        "    products: _\n",
        "\n",
        "- return:\n",
        "    products: _\n",
        "\"\"\")\n",
        "\n",
        "product_search_task = client.tasks.create_or_update(\n",
        "    task_id=PRODUCT_SEARCH_TASK_UUID,\n",
        "    agent_id=AGENT_UUID,\n",
        "    **product_search_task_def\n",
        ")"
      ],
      "metadata": {
        "id": "THewC-Y9YnLC"
      },
      "execution_count": 5,
      "outputs": []
    },
    {
      "cell_type": "code",
      "source": [
        "# Define the deal notification task\n",
        "deal_notification_task_def = yaml.safe_load(\"\"\"\n",
        "name: Deal Notification\n",
        "\n",
        "input_schema:\n",
        "  type: object\n",
        "  properties:\n",
        "    user_email:\n",
        "      type: string\n",
        "    deal_details:\n",
        "      type: string\n",
        "\n",
        "main:\n",
        "- prompt:\n",
        "  - role: system\n",
        "    content: >-\n",
        "      You are a notification assistant. Notify the user about the following deal:\n",
        "      User Email: {{inputs[0].user_email}}\n",
        "      Deal Details: {{inputs[0].deal_details}}\n",
        "\n",
        "      Send a notification email to the user.\n",
        "  unwrap: true\n",
        "\n",
        "- evaluate:\n",
        "    notification_status: \"sent\"  # Simulating a successful notification\n",
        "\n",
        "- return:\n",
        "    notification_status: _\n",
        "\"\"\")\n",
        "\n",
        "deal_notification_task = client.tasks.create_or_update(\n",
        "    task_id=DEAL_NOTIFICATION_TASK_UUID,\n",
        "    agent_id=AGENT_UUID,\n",
        "    **deal_notification_task_def\n",
        ")"
      ],
      "metadata": {
        "id": "fPoy9MxMYqFy"
      },
      "execution_count": 6,
      "outputs": []
    },
    {
      "cell_type": "code",
      "source": [
        "def search_products(search_query):\n",
        "    execution = client.executions.create(\n",
        "        task_id=PRODUCT_SEARCH_TASK_UUID,\n",
        "        input={\n",
        "            \"search_query\": search_query\n",
        "        }\n",
        "    )\n",
        "    time.sleep(2)\n",
        "    result = client.executions.get(execution.id)\n",
        "    output = client.executions.transitions.list(execution_id=result.id).items[0].output\n",
        "    return output"
      ],
      "metadata": {
        "id": "WygUXiiqYr_4"
      },
      "execution_count": 7,
      "outputs": []
    },
    {
      "cell_type": "code",
      "source": [
        "def compare_prices(product_links):\n",
        "    prices = {}\n",
        "\n",
        "    products_list = re.findall(r'\\*\\*(.*?)\\*\\*', product_links)\n",
        "    links_list = re.findall(r'\\[(.*?)\\]\\((.*?)\\)', product_links)\n",
        "\n",
        "    for idx, product_name in enumerate(products_list):\n",
        "        link = links_list[idx][1] if idx < len(links_list) else \"\"\n",
        "        price = 200 + idx * 20  ]\n",
        "        prices[product_name] = {\"link\": link, \"price\": price}\n",
        "\n",
        "    if prices:\n",
        "        best_product = min(prices.items(), key=lambda x: x[1]['price'])\n",
        "        return f\"{best_product[0]} is available for ${best_product[1]['price']} (Link: {best_product[1]['link']})\"\n",
        "    else:\n",
        "        return \"No valid products found for price comparison.\""
      ],
      "metadata": {
        "id": "5hSeTWcvYuJC"
      },
      "execution_count": 8,
      "outputs": []
    },
    {
      "cell_type": "code",
      "source": [
        "def notify_deal(user_email, deal_details):\n",
        "    execution = client.executions.create(\n",
        "        task_id=DEAL_NOTIFICATION_TASK_UUID,\n",
        "        input={\n",
        "            \"user_email\": user_email,\n",
        "            \"deal_details\": deal_details\n",
        "        }\n",
        "    )\n",
        "    time.sleep(2)\n",
        "    result = client.executions.get(execution.id)\n",
        "    return client.executions.transitions.list(execution_id=result.id).items[0].output"
      ],
      "metadata": {
        "id": "1RPdeFQhYwnD"
      },
      "execution_count": 9,
      "outputs": []
    },
    {
      "cell_type": "code",
      "source": [
        "def display_results(product_links, best_deal, notification_status):\n",
        "    print(\"\\n\" + \"=\" * 40)\n",
        "    print(\"📦 Products Found:\")\n",
        "    print(\"=\" * 40)\n",
        "    if product_links:\n",
        "        print(\"\\n\".join([f\"- {product}\" for product in product_links.splitlines()]))\n",
        "    else:\n",
        "        print(\"No products found.\")\n",
        "\n",
        "    print(\"\\n\" + \"=\" * 40)\n",
        "    print(\"💸 Best Deal:\")\n",
        "    print(\"=\" * 40)\n",
        "    print(best_deal)\n",
        "\n",
        "    # print(\"\\n\" + \"=\" * 40)\n",
        "    # print(\"📧 Notification Status:\")\n",
        "    # print(\"=\" * 40)\n",
        "    # print(\"\\n\" + notification_status)\n",
        "\n",
        "print(\"🚀 Demonstrating AI-Powered Personal Shopping Assistant:\")\n",
        "\n",
        "user_email = \"user@example.com\"\n",
        "search_query = \"smartphone under 300 dollars\"\n",
        "product_links = search_products(search_query)\n",
        "\n",
        "if product_links:\n",
        "    best_deal = compare_prices(product_links.get('products', {}).get('products', \"\"))\n",
        "    notification_status = notify_deal(user_email, best_deal)\n",
        "    display_results(product_links.get('products', {}).get('products', \"\"), best_deal, notification_status)\n",
        "else:\n",
        "    print(\"\\nNo products found for the given search query.\")\n"
      ],
      "metadata": {
        "colab": {
          "base_uri": "https://localhost:8080/"
        },
        "id": "hP4bfkWaZ3ip",
        "outputId": "965437df-48d6-4cc5-f0d8-8378018b26ba"
      },
      "execution_count": 16,
      "outputs": [
        {
          "output_type": "stream",
          "name": "stdout",
          "text": [
            "🚀 Demonstrating AI-Powered Personal Shopping Assistant:\n",
            "\n",
            "========================================\n",
            "📦 Products Found:\n",
            "========================================\n",
            "- Here is a list of smartphones under $300 along with their links:\n",
            "- \n",
            "- 1. **Samsung Galaxy A14 5G**\n",
            "-    - [Samsung Galaxy A14 5G on Amazon](https://www.amazon.com/Samsung-Galaxy-A14-5G/dp/B0BVZ9Z8B2)\n",
            "- \n",
            "- 2. **Moto G Power (2023)**\n",
            "-    - [Moto G Power 2023 on Amazon](https://www.amazon.com/Moto-G-Power-2023/dp/B0B8B8YRQH)\n",
            "- \n",
            "- 3. **Nokia G20**\n",
            "-    - [Nokia G20 on Amazon](https://www.amazon.com/Nokia-G20/dp/B094Y3H4Y9)\n",
            "- \n",
            "- 4. **TCL 20 SE**\n",
            "-    - [TCL 20 SE on Amazon](https://www.amazon.com/TCL-20-SE/dp/B08Z76QZQZ)\n",
            "- \n",
            "- 5. **Samsung Galaxy A03s**\n",
            "-    - [Samsung Galaxy A03s on Amazon](https://www.amazon.com/Samsung-Galaxy-A03s/dp/B09C1B3VRZ)\n",
            "- \n",
            "- Please note that prices and availability may vary, so it's a good idea to check the links for the most current information.\n",
            "\n",
            "========================================\n",
            "💸 Best Deal:\n",
            "========================================\n",
            "Samsung Galaxy A14 5G is available for $200 (Link: https://www.amazon.com/Samsung-Galaxy-A14-5G/dp/B0BVZ9Z8B2)\n"
          ]
        }
      ]
    },
    {
      "cell_type": "code",
      "source": [],
      "metadata": {
        "id": "HGhXWIMCaLRw"
      },
      "execution_count": null,
      "outputs": []
    }
  ]
}